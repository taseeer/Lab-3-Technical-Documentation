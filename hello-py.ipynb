{
 "cells": [
  {
   "cell_type": "code",
   "execution_count": 1,
   "id": "1869d38d",
   "metadata": {
    "_cell_guid": "b1076dfc-b9ad-4769-8c92-a6c4dae69d19",
    "_uuid": "8f2839f25d086af736a60e9eeb907d3b93b6e0e5",
    "execution": {
     "iopub.execute_input": "2025-02-11T08:36:03.125514Z",
     "iopub.status.busy": "2025-02-11T08:36:03.125141Z",
     "iopub.status.idle": "2025-02-11T08:36:03.132611Z",
     "shell.execute_reply": "2025-02-11T08:36:03.131539Z"
    },
    "papermill": {
     "duration": 0.012496,
     "end_time": "2025-02-11T08:36:03.134277",
     "exception": false,
     "start_time": "2025-02-11T08:36:03.121781",
     "status": "completed"
    },
    "tags": []
   },
   "outputs": [
    {
     "name": "stdout",
     "output_type": "stream",
     "text": [
      "Hello, Kaggle!\n"
     ]
    }
   ],
   "source": [
    "print(\"Hello, Kaggle!\")\n"
   ]
  },
  {
   "cell_type": "code",
   "execution_count": null,
   "id": "bd1d35bd",
   "metadata": {
    "papermill": {
     "duration": 0.001367,
     "end_time": "2025-02-11T08:36:03.137753",
     "exception": false,
     "start_time": "2025-02-11T08:36:03.136386",
     "status": "completed"
    },
    "tags": []
   },
   "outputs": [],
   "source": []
  }
 ],
 "metadata": {
  "kaggle": {
   "accelerator": "none",
   "dataSources": [],
   "dockerImageVersionId": 30886,
   "isGpuEnabled": false,
   "isInternetEnabled": false,
   "language": "python",
   "sourceType": "notebook"
  },
  "kernelspec": {
   "display_name": "Python 3",
   "language": "python",
   "name": "python3"
  },
  "language_info": {
   "codemirror_mode": {
    "name": "ipython",
    "version": 3
   },
   "file_extension": ".py",
   "mimetype": "text/x-python",
   "name": "python",
   "nbconvert_exporter": "python",
   "pygments_lexer": "ipython3",
   "version": "3.10.12"
  },
  "papermill": {
   "default_parameters": {},
   "duration": 3.441507,
   "end_time": "2025-02-11T08:36:03.660249",
   "environment_variables": {},
   "exception": null,
   "input_path": "__notebook__.ipynb",
   "output_path": "__notebook__.ipynb",
   "parameters": {},
   "start_time": "2025-02-11T08:36:00.218742",
   "version": "2.6.0"
  }
 },
 "nbformat": 4,
 "nbformat_minor": 5
}
